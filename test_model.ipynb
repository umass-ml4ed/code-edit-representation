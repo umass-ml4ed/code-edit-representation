{
 "cells": [
  {
   "cell_type": "code",
   "execution_count": 1,
   "metadata": {},
   "outputs": [
    {
     "name": "stdout",
     "output_type": "stream",
     "text": [
      "<class 'pandas.core.frame.DataFrame'>\n",
      "RangeIndex: 488968 entries, 0 to 488967\n",
      "Data columns (total 25 columns):\n",
      " #   Column                 Non-Null Count   Dtype  \n",
      "---  ------                 --------------   -----  \n",
      " 0   problemID              488968 non-null  object \n",
      " 1   problemDescription     488968 non-null  object \n",
      " 2   studentID_1            488968 non-null  object \n",
      " 3   test_case_verdict_i_1  488968 non-null  object \n",
      " 4   codeID_i_1             488968 non-null  object \n",
      " 5   code_i_1               488968 non-null  object \n",
      " 6   score_i_1              488968 non-null  float64\n",
      " 7   score_calc_i_1         488968 non-null  float64\n",
      " 8   test_case_verdict_j_1  488968 non-null  object \n",
      " 9   codeID_j_1             488968 non-null  object \n",
      " 10  code_j_1               488968 non-null  object \n",
      " 11  score_j_1              488968 non-null  float64\n",
      " 12  score_calc_j_1         488968 non-null  float64\n",
      " 13  studentID_2            488968 non-null  object \n",
      " 14  test_case_verdict_i_2  488968 non-null  object \n",
      " 15  codeID_i_2             488968 non-null  object \n",
      " 16  code_i_2               488968 non-null  object \n",
      " 17  score_i_2              488968 non-null  float64\n",
      " 18  score_calc_i_2         488968 non-null  float64\n",
      " 19  test_case_verdict_j_2  488968 non-null  object \n",
      " 20  codeID_j_2             488968 non-null  object \n",
      " 21  code_j_2               488968 non-null  object \n",
      " 22  score_j_2              488968 non-null  float64\n",
      " 23  score_calc_j_2         488968 non-null  float64\n",
      " 24  is_similar             488968 non-null  bool   \n",
      "dtypes: bool(1), float64(8), object(16)\n",
      "memory usage: 90.0+ MB\n",
      "None\n"
     ]
    }
   ],
   "source": [
    "#load the dataset from data folder\n",
    "import pandas as pd\n",
    "import numpy as np\n",
    "import matplotlib.pyplot as plt\n",
    "# import seaborn as sns\n",
    "import os\n",
    "import sys\n",
    "\n",
    "#load the dataset\n",
    "def load_data():\n",
    "    #load the dataset\n",
    "    data = pd.read_pickle('data/dataset.pkl')\n",
    "    return data\n",
    "\n",
    "#display the first 5 rows of the dataset\n",
    "def display_data(data):\n",
    "    print(data.head())\n",
    "\n",
    "#display the shape of the dataset\n",
    "def display_shape(data):\n",
    "    print(data.shape)\n",
    "\n",
    "#display the columns of the dataset\n",
    "def display_columns(data):\n",
    "    print(data.columns)\n",
    "\n",
    "#display the info of the dataset\n",
    "def display_info(data):\n",
    "    print(data.info())\n",
    "\n",
    "#display the summary of the dataset\n",
    "def display_summary(data):\n",
    "    print(data.describe())\n",
    "\n",
    "#display the missing values in the dataset\n",
    "def display_missing_values(data):\n",
    "    print(data.isnull().sum())\n",
    "\n",
    "CSEDMdata = load_data()\n",
    "# display_data(data)\n",
    "# display_shape(data)\n",
    "# display_columns(data)\n",
    "display_info(CSEDMdata)\n",
    "\n"
   ]
  },
  {
   "cell_type": "code",
   "execution_count": 2,
   "metadata": {},
   "outputs": [
    {
     "name": "stderr",
     "output_type": "stream",
     "text": [
      "/scratch/login/ipykernel_1742400/372013867.py:14: UserWarning: \n",
      "The version_base parameter is not specified.\n",
      "Please specify a compatability version level, or None.\n",
      "Will assume defaults for version 1.1\n",
      "  hydra.initialize(config_path=\".\")\n"
     ]
    },
    {
     "name": "stdout",
     "output_type": "stream",
     "text": [
      "seed: 0\n",
      "exp_name: cer\n",
      "use_neptune: true\n",
      "save_model: false\n",
      "testing: false\n",
      "testing_size: 16\n",
      "neptune_project: hhjami/Code-Edit-Representation\n",
      "log_train_every_itr: 100\n",
      "model_save_dir: checkpoints\n",
      "use_cuda: true\n",
      "verbose: true\n",
      "data_path: data\n",
      "test_size: 0.2\n",
      "max_len: 200\n",
      "true_false_ratio: 1\n",
      "model_inp_dim: 1024\n",
      "model_name: Salesforce/codet5-large\n",
      "epochs: 50\n",
      "batch_size: 2\n",
      "lr: 1.0e-09\n",
      "lr_pretrained_encoder: 1.0e-08\n",
      "lr_fc_edit_encoder: 1.0e-05\n",
      "lr_fc_classifier: 1.0e-05\n",
      "use_scheduler: true\n",
      "warmup_ratio: 0.1\n",
      "loss_fn: ContrastiveLoss\n",
      "margin: 0.27\n",
      "accumulation_steps: 1\n",
      "\n"
     ]
    }
   ],
   "source": [
    "from sentence_transformers import SentenceTransformer, SentenceTransformerTrainer, losses\n",
    "import yaml\n",
    "import hydra\n",
    "# with open('configs_cer.yaml', 'r') as file:\n",
    "#     config = yaml.safe_load(file)\n",
    "# print(config['model_name'])\n",
    "\n",
    "import hydra\n",
    "from omegaconf import OmegaConf\n",
    "\n",
    "# Initialize the configuration without using @hydra.main\n",
    "def load_config():\n",
    "    # Initialize Hydra manually\n",
    "    hydra.initialize(config_path=\".\")\n",
    "\n",
    "    # Load the config file (config.yaml)\n",
    "    cfg = hydra.compose(config_name=\"configs_cer\")\n",
    "\n",
    "    # Print or return the configuration\n",
    "    print(OmegaConf.to_yaml(cfg))  # Pretty print the config\n",
    "    return cfg\n",
    "\n",
    "config = load_config()"
   ]
  },
  {
   "cell_type": "code",
   "execution_count": 3,
   "metadata": {},
   "outputs": [
    {
     "name": "stdout",
     "output_type": "stream",
     "text": [
      "cpu\n"
     ]
    },
    {
     "ename": "",
     "evalue": "",
     "output_type": "error",
     "traceback": [
      "\u001b[1;31mThe Kernel crashed while executing code in the current cell or a previous cell. \n",
      "\u001b[1;31mPlease review the code in the cell(s) to identify a possible cause of the failure. \n",
      "\u001b[1;31mClick <a href='https://aka.ms/vscodeJupyterKernelCrash'>here</a> for more info. \n",
      "\u001b[1;31mView Jupyter <a href='command:jupyter.viewOutput'>log</a> for further details."
     ]
    }
   ],
   "source": [
    "from model import CustomCERModel\n",
    "import torch\n",
    "device = torch.device('cuda') if torch.cuda.is_available() else torch.device('cpu')  \n",
    "print(device)  \n",
    "model = CustomCERModel(configs=config, device=device)"
   ]
  },
  {
   "cell_type": "code",
   "execution_count": null,
   "metadata": {},
   "outputs": [],
   "source": [
    "import matplotlib.pyplot as plt\n",
    "import torch\n",
    "\n",
    "# Data provided\n",
    "labels = torch.tensor([1, 0, 1, 1, 0, 1, 0, 1, 1])\n",
    "AB_cosine_similarities = [\n",
    "    torch.tensor([0.6881, 0.3574, 0.4865, 0.4653, 0.8867, 0.7492, 0.9219, 0.2820, 0.4474]),\n",
    "    torch.tensor([0.7332, 0.5045, -0.0037, 0.4531, 0.8295, 0.6964, 0.8824, 0.6375, 0.0569]),\n",
    "    torch.tensor([0.7164, 0.0561, 0.2616, 0.6586, 0.8565, 0.8073, 0.8745, 0.6175, -0.0522]),\n",
    "    torch.tensor([0.7837, -0.2010, 0.4603, 0.6059, 0.8374, 0.8044, 0.9077, 0.6875, 0.3232]),\n",
    "    torch.tensor([0.7577, 0.1216, 0.3400, 0.5099, 0.8727, 0.7566, 0.9172, 0.7558, 0.0677]),\n",
    "    torch.tensor([0.8581, 0.0865, -0.0914, 0.6339, 0.8928, 0.8287, 0.9217, 0.5610, 0.1923]),\n",
    "    torch.tensor([0.7801, -0.1894, 0.3952, 0.5669, 0.8789, 0.8051, 0.9146, 0.6495, -0.4297]),\n",
    "    torch.tensor([0.7719, 0.1115, 0.5210, 0.3800, 0.8258, 0.5258, 0.9056, 0.6385, -0.2323]),\n",
    "    torch.tensor([0.6859, 0.0128, 0.0218, 0.6138, 0.8776, 0.6552, 0.9331, 0.6885, 0.0428]),\n",
    "    torch.tensor([0.8046, -0.2560, 0.1905, 0.1647, 0.8836, 0.7418, 0.9228, 0.6923, 0.0132])\n",
    "]\n",
    "\n",
    "# Plot the AB cosine similarities\n",
    "fig, ax = plt.subplots(figsize=(10, 6))\n",
    "\n",
    "for i, AB_cos_sim in enumerate(AB_cosine_similarities):\n",
    "    ax.plot(AB_cos_sim.cpu().numpy(), label=f'Batch {i+1}')\n",
    "\n",
    "# Add label information as text markers on the graph\n",
    "for i, AB_cos_sim in enumerate(AB_cosine_similarities):\n",
    "    for j, value in enumerate(AB_cos_sim):\n",
    "        ax.text(j, value, f'{labels[j].item()}', fontsize=8, ha='center', va='bottom')\n",
    "\n",
    "# Set the labels and title\n",
    "ax.set_xlabel('Index')\n",
    "ax.set_ylabel('AB Cosine Similarity')\n",
    "ax.set_title('AB Cosine Similarities Across Batches')\n",
    "ax.legend()\n",
    "\n",
    "plt.grid(True)\n",
    "plt.tight_layout()\n",
    "\n",
    "# Show plot\n",
    "plt.show()\n"
   ]
  },
  {
   "cell_type": "code",
   "execution_count": 12,
   "metadata": {},
   "outputs": [
    {
     "name": "stdout",
     "output_type": "stream",
     "text": [
      "torch.Size([1, 16, 1024])\n"
     ]
    }
   ],
   "source": [
    "from transformers import T5Tokenizer, T5ForConditionalGeneration, RobertaTokenizer\n",
    "\n",
    "# tokenizer = T5Tokenizer.from_pretrained(\"google/flan-t5-base\")\n",
    "# model = T5ForConditionalGeneration.from_pretrained(\"google/flan-t5-base\")\n",
    "modelName = 'Salesforce/codet5-large'\n",
    "tokenizer = RobertaTokenizer.from_pretrained(modelName)\n",
    "model = T5ForConditionalGeneration.from_pretrained(modelName)\n",
    "\n",
    "\n",
    "# input_text = \"translate English to German: How old are you?\"\n",
    "# input_text = \"Write a python code to find the factorial of a number.\"\n",
    "# input_ids = tokenizer(input_text, return_tensors=\"pt\").input_ids\n",
    "\n",
    "# outputs = model.generate(input_ids)\n",
    "# print(tokenizer.decode(outputs[0]))\n",
    "\n",
    "# Prepare the input\n",
    "code = \"def hello_world():\\n\\tprint('Hello, world!')\"\n",
    "# input_tokenized = tokenizer.encode(code, return_tensors='pt')\n",
    "\n",
    "# # Get the embeddings\n",
    "# # outputs = model(input_tokenized)\n",
    "# outputs = model(input_tokenized, decoder_input_ids=input_tokenized)\n",
    "# # embeddings = outputs.last_hidden_state\n",
    "\n",
    "# print(outputs.shape)\n",
    "\n",
    "inputs = tokenizer(code, return_tensors=\"pt\", padding=True, truncation=True)\n",
    "outputs = model.encoder(**inputs)\n",
    "embeddings = outputs.last_hidden_state\n",
    "# embeddings = torch.mean(embeddings, dim=1)\n",
    "print(embeddings.shape)\n"
   ]
  },
  {
   "cell_type": "code",
   "execution_count": null,
   "metadata": {},
   "outputs": [],
   "source": [
    "from transformers import T5Tokenizer, T5Model, RobertaTokenizer\n",
    "\n",
    "# Load the model and tokenizer\n",
    "# model = T5Model.from_pretrained('t5-base')\n",
    "# tokenizer = T5Tokenizer.from_pretrained('t5-base')#, legacy=False)\n",
    "# model = T5Model.from_pretrained('t5-large')\n",
    "# tokenizer = T5Tokenizer.from_pretrained('t5-large')\n",
    "model = T5Model.from_pretrained('Salesforce/codet5-large')\n",
    "tokenizer = RobertaTokenizer.from_pretrained('Salesforce/codet5-large')\n",
    "\n",
    "# Prepare the input\n",
    "code = \"def hello_world():\\n\\tprint('Hello, world!')\"\n",
    "input_tokenized = tokenizer.encode(code, return_tensors='pt')\n",
    "\n",
    "# Get the embeddings\n",
    "# outputs = model(input_tokenized)\n",
    "outputs = model(input_tokenized, decoder_input_ids=input_tokenized)\n",
    "embeddings = outputs.last_hidden_state\n",
    "\n",
    "print(embeddings)"
   ]
  },
  {
   "cell_type": "code",
   "execution_count": 3,
   "metadata": {},
   "outputs": [
    {
     "ename": "AttributeError",
     "evalue": "'Tensor' object has no attribute 'last_hidden_state'",
     "output_type": "error",
     "traceback": [
      "\u001b[0;31m---------------------------------------------------------------------------\u001b[0m",
      "\u001b[0;31mAttributeError\u001b[0m                            Traceback (most recent call last)",
      "Cell \u001b[0;32mIn[3], line 1\u001b[0m\n\u001b[0;32m----> 1\u001b[0m \u001b[38;5;28mprint\u001b[39m(\u001b[43moutputs\u001b[49m\u001b[38;5;241;43m.\u001b[39;49m\u001b[43mlast_hidden_state\u001b[49m\u001b[38;5;241m.\u001b[39mshape)\n\u001b[1;32m      2\u001b[0m \u001b[38;5;28mprint\u001b[39m(input_tokenized\u001b[38;5;241m.\u001b[39mshape)\n",
      "\u001b[0;31mAttributeError\u001b[0m: 'Tensor' object has no attribute 'last_hidden_state'"
     ]
    }
   ],
   "source": [
    "print(outputs.last_hidden_state.shape)\n",
    "print(input_tokenized.shape)"
   ]
  },
  {
   "cell_type": "code",
   "execution_count": null,
   "metadata": {},
   "outputs": [],
   "source": [
    "import torch \n",
    "# Average the embeddings of all tokens to get a single embedding for the whole sequence\n",
    "sequence_embedding = torch.mean(embeddings, dim=1)\n",
    "\n",
    "print(sequence_embedding.shape)\n",
    "print(sequence_embedding)"
   ]
  },
  {
   "cell_type": "code",
   "execution_count": 4,
   "metadata": {},
   "outputs": [],
   "source": [
    "import torch\n",
    "# checkpoint = 'checkpoints/20240605_140039' #w/o sigmoid, epoch 20\n",
    "# checkpoint = 'checkpoints/20240530_172907' #w/o sigmoid, epoch 10\n",
    "checkpoint = 'checkpoints/20240605_161503' # w/ sigmoid, epoch 20\n",
    "model = torch.load(checkpoint + '/model')#, map_location='cpu') "
   ]
  },
  {
   "cell_type": "code",
   "execution_count": 5,
   "metadata": {},
   "outputs": [],
   "source": [
    "train_set = torch.load(checkpoint + '/train_set')\n",
    "test_set = torch.load(checkpoint + '/test_set')\n",
    "valid_set = torch.load(checkpoint + '/valid_set')"
   ]
  },
  {
   "cell_type": "code",
   "execution_count": 6,
   "metadata": {},
   "outputs": [
    {
     "name": "stdout",
     "output_type": "stream",
     "text": [
      "1 1 tensor([[1.]], device='cuda:0') True\n",
      "251 501 tensor([[1.]], device='cuda:0') True\n",
      "485 1001 tensor([[1.]], device='cuda:0') False\n",
      "Test accuracy: 0.49260752688172044\n",
      "0 1 tensor([[1.]], device='cuda:0') False\n",
      "234 501 tensor([[1.]], device='cuda:0') False\n",
      "483 1001 tensor([[1.]], device='cuda:0') False\n",
      "Valid accuracy: 0.49193548387096775\n"
     ]
    }
   ],
   "source": [
    "def get_accuracy(model, input_set):\n",
    "    model.eval()\n",
    "    correct = 0\n",
    "    total = 0\n",
    "    i = 0\n",
    "    with torch.no_grad():\n",
    "        for index, row in input_set.iterrows():\n",
    "            A1 = row['code_i_1']\n",
    "            A2 = row['code_i_2']\n",
    "            B1 = row['code_j_1']\n",
    "            B2 = row['code_j_2']\n",
    "            target = row['is_similar']\n",
    "            output = model.forward(A1, A2, B1, B2)\n",
    "            output = torch.round(torch.sigmoid(output))\n",
    "\n",
    "            predicted = output\n",
    "            total += 1\n",
    "            if (target == True and predicted == 1) or (target == False and predicted == 0):\n",
    "                correct += 1\n",
    "            if i % 500 == 0: print(correct, total, predicted, target)\n",
    "            i += 1\n",
    "    return correct / total\n",
    "\n",
    "# train_accuracy = get_accuracy(model, train_set)\n",
    "# print(f'Train accuracy: {train_accuracy}')\n",
    "test_accuracy = get_accuracy(model, test_set)\n",
    "print(f'Test accuracy: {test_accuracy}')\n",
    "valid_accuracy = get_accuracy(model, valid_set)\n",
    "print(f'Valid accuracy: {valid_accuracy}')"
   ]
  },
  {
   "cell_type": "code",
   "execution_count": 8,
   "metadata": {},
   "outputs": [
    {
     "name": "stdout",
     "output_type": "stream",
     "text": [
      "(1004, 768)\n"
     ]
    }
   ],
   "source": [
    "import numpy as np\n",
    "def get_latent_states(model, input_set):\n",
    "    latent_states = []\n",
    "    i = 0\n",
    "    for index, row in input_set.iterrows():\n",
    "        A1_emb = model.get_embeddings(row['code_i_1'])\n",
    "        A2_emb = model.get_embeddings(row['code_i_2'])\n",
    "        B1_emb = model.get_embeddings(row['code_j_1'])\n",
    "        B2_emb = model.get_embeddings(row['code_j_2'])\n",
    "\n",
    "        # Compute differences\n",
    "        Da = A2_emb - A1_emb\n",
    "        Db = B2_emb - B1_emb\n",
    "\n",
    "        # Pass through the first FC layer\n",
    "        Da_fc = model.fc1(Da)\n",
    "        Db_fc = model.fc1(Db)\n",
    "\n",
    "        latent_states.append(Da_fc.cpu().detach().numpy())\n",
    "        latent_states.append(Db_fc.cpu().detach().numpy())\n",
    "        if i > 500:\n",
    "            break\n",
    "        i += 1\n",
    "    return latent_states\n",
    "\n",
    "latent_states = get_latent_states(model, train_set)\n",
    "latent_states = np.array(latent_states)\n",
    "latent_states = latent_states.reshape(-1, latent_states.shape[-1])\n",
    "print(latent_states.shape)"
   ]
  },
  {
   "cell_type": "code",
   "execution_count": 9,
   "metadata": {},
   "outputs": [
    {
     "name": "stdout",
     "output_type": "stream",
     "text": [
      "Performing Dimension Reduction\n"
     ]
    },
    {
     "name": "stderr",
     "output_type": "stream",
     "text": [
      "/home/hheickal_umass_edu/.conda/envs/NLP_project/lib/python3.12/site-packages/sklearn/manifold/_t_sne.py:1162: FutureWarning: 'n_iter' was renamed to 'max_iter' in version 1.5 and will be removed in 1.7.\n",
      "  warnings.warn(\n"
     ]
    },
    {
     "name": "stdout",
     "output_type": "stream",
     "text": [
      "Downsampling\n"
     ]
    },
    {
     "data": {
      "text/plain": [
       "<matplotlib.collections.PathCollection at 0x7f3b20366150>"
      ]
     },
     "execution_count": 9,
     "metadata": {},
     "output_type": "execute_result"
    },
    {
     "data": {
      "image/png": "[encoded data removed]",
      "text/plain": [
       "<Figure size 640x480 with 1 Axes>"
      ]
     },
     "metadata": {},
     "output_type": "display_data"
    }
   ],
   "source": [
    "from analysis import *\n",
    "\n",
    "reduced_states, _ = reduce_latent_states(latent_states, sample_rate=1) \n",
    "# Plot the reduced_states as a scatter plot\n",
    "\n",
    "plt.scatter(reduced_states[:, 0], reduced_states[:, 1])"
   ]
  },
  {
   "cell_type": "code",
   "execution_count": 9,
   "metadata": {},
   "outputs": [
    {
     "name": "stdout",
     "output_type": "stream",
     "text": [
      "[[ 0.1  7.4  0. ]\n",
      " [-0.2  5.3  0. ]\n",
      " [ 0.2  8.2  1. ]\n",
      " [ 0.2  7.7  1. ]]\n",
      "tensor([[ 0.1000,  7.4000,  0.0000],\n",
      "        [-0.2000,  5.3000,  0.0000]], dtype=torch.float64)\n",
      "{'tokenized_input': tensor([[  1,   4,   5,   9,   3,   2,   0,   0,   0],\n",
      "        [  1,   7,   3,  14,  48,   7,  23, 154,   2]]), 'label': tensor([0, 0])}\n",
      "{'tokenized_input': tensor([[  1,  30,  67, 117,  21,  15,   2],\n",
      "        [  1,  17,   2,   0,   0,   0,   0]]), 'label': tensor([1, 0])}\n"
     ]
    }
   ],
   "source": [
    "import torch\n",
    "from torch.utils.data import DataLoader\n",
    "import numpy as np\n",
    "\n",
    "data = np.array([\n",
    "    [0.1, 7.4, 0],\n",
    "    [-0.2, 5.3, 0],\n",
    "    [0.2, 8.2, 1],\n",
    "    [0.2, 7.7, 1]])\n",
    "print(data)\n",
    "\n",
    "loader = DataLoader(data, batch_size=2, shuffle=False)\n",
    "batch = next(iter(loader))\n",
    "print(batch)\n",
    "\n",
    "from torch.nn.utils.rnn import pad_sequence #(1)\n",
    "\n",
    "nlp_data = [\n",
    "    {'tokenized_input': [1, 4, 5, 9, 3, 2],\n",
    "     'label':0},\n",
    "    {'tokenized_input': [1, 7, 3, 14, 48, 7, 23, 154, 2],\n",
    "     'label':0},\n",
    "    {'tokenized_input': [1, 30, 67, 117, 21, 15, 2],\n",
    "     'label':1},\n",
    "    {'tokenized_input': [1, 17, 2],\n",
    "     'label':0},\n",
    "]\n",
    "\n",
    "def custom_collate(data): #(2)\n",
    "    inputs = [torch.tensor(d['tokenized_input']) for d in data] #(3)\n",
    "    labels = [d['label'] for d in data]\n",
    "\n",
    "    inputs = pad_sequence(inputs, batch_first=True) #(4)\n",
    "    labels = torch.tensor(labels) #(5)\n",
    "\n",
    "    return { #(6)\n",
    "        'tokenized_input': inputs,\n",
    "        'label': labels\n",
    "    }\n",
    "\n",
    "loader = DataLoader(nlp_data, batch_size=2, shuffle=False, collate_fn=custom_collate) #(7)\n",
    "\n",
    "iter_loader = iter(loader)\n",
    "batch1 = next(iter_loader)\n",
    "print(batch1)\n",
    "batch2 = next(iter_loader)\n",
    "print(batch2)\n"
   ]
  },
  {
   "cell_type": "code",
   "execution_count": 3,
   "metadata": {},
   "outputs": [
    {
     "name": "stdout",
     "output_type": "stream",
     "text": [
      "A_batch: tensor([101, 102])\n",
      "B_batch: tensor([201, 202])\n",
      "maskA_batch: tensor([1, 1])\n",
      "maskB_batch: tensor([1, 1])\n",
      "A_batch: tensor([104, 103])\n",
      "B_batch: tensor([204, 203])\n",
      "maskA_batch: tensor([2, 2])\n",
      "maskB_batch: tensor([3, 2])\n"
     ]
    }
   ],
   "source": [
    "import torch\n",
    "from torch.utils.data import Dataset\n",
    "import pandas as pd\n",
    "\n",
    "class MaskedDataset(Dataset):\n",
    "    def __init__(self, dataframe):\n",
    "        self.data = dataframe\n",
    "        # Group the dataset by maskA and maskB\n",
    "        self.grouped_data = dataframe.groupby('maskA')\n",
    "    \n",
    "    def __len__(self):\n",
    "        return len(self.data)\n",
    "    \n",
    "    def __getitem__(self, idx):\n",
    "        row = self.data.iloc[idx]\n",
    "        return {\n",
    "            'idA': row['idA'],\n",
    "            'A': row['A'],\n",
    "            'maskA': row['maskA'],\n",
    "            'idB': row['idB'],\n",
    "            'B': row['B'],\n",
    "            'maskB': row['maskB']\n",
    "        }\n",
    "\n",
    "    def get_grouped_data(self):\n",
    "        return self.grouped_data\n",
    "import numpy as np\n",
    "from torch.utils.data import Sampler\n",
    "\n",
    "class NegativeSampler(Sampler):\n",
    "    def __init__(self, dataset, batch_size):\n",
    "        self.dataset = dataset\n",
    "        self.batch_size = batch_size\n",
    "        self.grouped_data = dataset.get_grouped_data()\n",
    "    \n",
    "    def __iter__(self):\n",
    "        # Shuffle the rows within each mask group\n",
    "        indices = []\n",
    "        for mask, group in self.grouped_data:\n",
    "            group_indices = list(group.index)\n",
    "            np.random.shuffle(group_indices)\n",
    "            indices.extend(group_indices)\n",
    "        \n",
    "        # Form batches by ensuring rows come from different mask groups\n",
    "        for i in range(0, len(indices), self.batch_size):\n",
    "            batch_indices = indices[i:i + self.batch_size]\n",
    "            if len(batch_indices) == self.batch_size:\n",
    "                yield batch_indices\n",
    "    \n",
    "    def __len__(self):\n",
    "        return len(self.dataset) // self.batch_size\n",
    "from torch.utils.data import DataLoader\n",
    "\n",
    "# Custom collate function just for bundling data into tensors\n",
    "def simple_collate_fn(batch):\n",
    "    A = [item['A'] for item in batch]\n",
    "    B = [item['B'] for item in batch]\n",
    "    maskA = [item['maskA'] for item in batch]\n",
    "    maskB = [item['maskB'] for item in batch]\n",
    "    \n",
    "    A_batch = torch.tensor(A)\n",
    "    B_batch = torch.tensor(B)\n",
    "    maskA_batch = torch.tensor(maskA)\n",
    "    maskB_batch = torch.tensor(maskB)\n",
    "    \n",
    "    return A_batch, B_batch, maskA_batch, maskB_batch\n",
    "\n",
    "# Example data\n",
    "data = {\n",
    "    'idA': [1, 2, 3, 4],\n",
    "    'A': [101, 102, 103, 104],\n",
    "    'maskA': [1, 1, 2, 2],\n",
    "    'idB': [11, 12, 13, 14],\n",
    "    'B': [201, 202, 203, 204],\n",
    "    'maskB': [1, 1, 2, 3]\n",
    "}\n",
    "df = pd.DataFrame(data)\n",
    "\n",
    "# Create the dataset\n",
    "dataset = MaskedDataset(df)\n",
    "\n",
    "# Create a DataLoader with custom sampler and collate function\n",
    "sampler = NegativeSampler(dataset, batch_size=2)\n",
    "dataloader = DataLoader(dataset, batch_sampler=sampler, collate_fn=simple_collate_fn)\n",
    "\n",
    "# Test the DataLoader\n",
    "for batch in dataloader:\n",
    "    A_batch, B_batch, maskA_batch, maskB_batch = batch\n",
    "    print(\"A_batch:\", A_batch)\n",
    "    print(\"B_batch:\", B_batch)\n",
    "    print(\"maskA_batch:\", maskA_batch)\n",
    "    print(\"maskB_batch:\", maskB_batch)\n"
   ]
  },
  {
   "cell_type": "code",
   "execution_count": 6,
   "metadata": {},
   "outputs": [
    {
     "name": "stdout",
     "output_type": "stream",
     "text": [
      "Generated Code:\n",
      "  \" calculate_sum(a, b)\"''\n",
      "\n",
      " def calculate_sum(a, b):\n",
      "    \"\"\" calculate_sum(a, b): calculate_sum(a, b)\"\"\"\n",
      "\n",
      "\n",
      " def calculate_sum(a, b):\n",
      "    #\n",
      "    # the two\n",
      "    #\n",
      "\n",
      "    # # of #\n",
      "\n",
      "\n",
      "    #\n",
      "\n",
      " # #\n",
      " \"\"\":: #\n"
     ]
    }
   ],
   "source": [
    "from transformers import AutoTokenizer, AutoModelForSeq2SeqLM\n",
    "\n",
    "# Load the tokenizer and model\n",
    "model_name = \"Salesforce/codet5-large\"\n",
    "tokenizer = AutoTokenizer.from_pretrained(model_name)\n",
    "model = AutoModelForSeq2SeqLM.from_pretrained(model_name)\n",
    "\n",
    "# Input with explicit prompt and task label\n",
    "input_code = \"Generate code: def calculate_sum(a, b):\\n    # Calculate and return the sum of two numbers\\n    return\"\n",
    "inputs = tokenizer.encode(input_code, return_tensors=\"pt\")\n",
    "\n",
    "# Generate output with adjusted parameters\n",
    "outputs = model.generate(\n",
    "    inputs,\n",
    "    max_length=150,\n",
    "    do_sample=True,\n",
    "    top_p=0.95,\n",
    "    temperature=0.9,\n",
    "    num_return_sequences=1\n",
    ")\n",
    "\n",
    "generated_code = tokenizer.decode(outputs[0], skip_special_tokens=True)\n",
    "print(\"Generated Code:\\n\", generated_code)\n"
   ]
  }
 ],
 "metadata": {
  "kernelspec": {
   "display_name": "NLP_project",
   "language": "python",
   "name": "python3"
  },
  "language_info": {
   "codemirror_mode": {
    "name": "ipython",
    "version": 3
   },
   "file_extension": ".py",
   "mimetype": "text/x-python",
   "name": "python",
   "nbconvert_exporter": "python",
   "pygments_lexer": "ipython3",
   "version": "3.12.3"
  }
 },
 "nbformat": 4,
 "nbformat_minor": 2
}
